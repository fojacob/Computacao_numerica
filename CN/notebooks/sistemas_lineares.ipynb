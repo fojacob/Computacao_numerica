{
 "cells": [
  {
   "cell_type": "markdown",
   "metadata": {
    "id": "Hj_PfumN-tLW"
   },
   "source": [
    "# Sistemas Lineares\n"
   ]
  },
  {
   "cell_type": "markdown",
   "metadata": {
    "id": "lEQxRptu5f9k"
   },
   "source": [
    "###Importacoes"
   ]
  },
  {
   "cell_type": "code",
   "execution_count": 1,
   "metadata": {
    "id": "azUgv9sJ28zy"
   },
   "outputs": [],
   "source": [
    "import numpy as np"
   ]
  },
  {
   "cell_type": "markdown",
   "metadata": {
    "id": "8YN7C76r_DON"
   },
   "source": [
    "###Sistema triangular superior: substituicao retroativa"
   ]
  },
  {
   "cell_type": "code",
   "execution_count": 2,
   "metadata": {
    "id": "X1SR0_Z25kaP"
   },
   "outputs": [],
   "source": [
    "def backSubstitution(a, b): #a: matriz principal; b: matriz de termos independentes\n",
    "  n = len(b)\n",
    "  for k in range(n-1, -1, -1):\n",
    "    b[k] = (b[k] - np.dot(a[k, k+1:n], b[k+1:n]))/a[k, k]\n",
    "  return b"
   ]
  },
  {
   "cell_type": "code",
   "execution_count": 3,
   "metadata": {
    "id": "0LO9vaHfpp3J"
   },
   "outputs": [],
   "source": [
    "a = np.array([[1.0, 2.0, 1.0,-1.0],\n",
    "              [0.0,-4.0, 1.0, 7.0],\n",
    "              [0.0, 0.0,-2.0, 1.0],\n",
    "              [0.0, 0.0, 0.0,-1.0]])\n",
    "\n",
    "b = np.array([5.0,1.0,1.0,3.0])\n",
    "\n",
    "x = np.array([0.0,0.0,0.0,0.0])\n",
    "n = len(b)"
   ]
  },
  {
   "cell_type": "code",
   "execution_count": 4,
   "metadata": {
    "colab": {
     "base_uri": "https://localhost:8080/"
    },
    "executionInfo": {
     "elapsed": 2850,
     "status": "ok",
     "timestamp": 1618355792820,
     "user": {
      "displayName": "MATHEUS DOS SANTOS PALHETA",
      "photoUrl": "https://lh3.googleusercontent.com/a-/AOh14GhBCKZHhcASrmkAX5Wts37AqlsR8dS72YjW-6iX=s64",
      "userId": "05994221399363431019"
     },
     "user_tz": 240
    },
    "id": "2kRGqcmp2jiS",
    "outputId": "d85a30b7-f39b-4a48-93d5-39fc63f9f4a0"
   },
   "outputs": [
    {
     "data": {
      "text/plain": [
       "array([16., -6., -2., -3.])"
      ]
     },
     "execution_count": 4,
     "metadata": {},
     "output_type": "execute_result"
    }
   ],
   "source": [
    "backSubstitution(a,b)"
   ]
  },
  {
   "cell_type": "markdown",
   "metadata": {
    "id": "n4IuZ_VGTyUN"
   },
   "source": [
    "###Sistema triangular inferior: substituicao sucessiva"
   ]
  },
  {
   "cell_type": "code",
   "execution_count": null,
   "metadata": {
    "id": "3Xk3l0iVCIvc"
   },
   "outputs": [],
   "source": [
    "a =np.array([[  1  ,   0   , 0],\n",
    "             [ -0.5,   1   , 0],\n",
    "             [ 0.25, -0.3  , 1]])\n",
    "\n",
    "b =np.array([-29, 15, 11])\n"
   ]
  },
  {
   "cell_type": "markdown",
   "metadata": {
    "id": "KEkVQQmGT9eW"
   },
   "source": [
    "###Gauss Method"
   ]
  },
  {
   "cell_type": "code",
   "execution_count": null,
   "metadata": {
    "id": "Kt_fNHKs3CiF"
   },
   "outputs": [],
   "source": [
    "def gaussElimin(a, b):\n",
    "    n = len(b)\n",
    "  # Elimination Phase\n",
    "    for k in range(0, n-1):\n",
    "        for i in range(k+1, n):\n",
    "           if a[i, k] != 0.0:\n",
    "               lam = a[i, k]/a[k, k]\n",
    "               a[i, k+1:n] = a[i, k+1:n] - lam*a[k, k+1:n]\n",
    "               b[i] = b[i] - lam*b[k]\n",
    "# Back substitution\n",
    "    backSubstitution(a,b)\n",
    "    return b"
   ]
  },
  {
   "cell_type": "code",
   "execution_count": null,
   "metadata": {
    "id": "AhNS6heMsdQg"
   },
   "outputs": [],
   "source": [
    "z = np.array([[-2.0, 3.0, 1.0, 5.0],\n",
    "              [ 5.0, 1.0,-1.0, 0.0],\n",
    "              [ 1.0, 6.0, 3.0,-1.0],\n",
    "              [ 4.0, 5.0, 2.0, 8.0]])\n",
    "\n",
    "k = np.array([[2.0, -1.0, 0.0, 6.0]])"
   ]
  },
  {
   "cell_type": "code",
   "execution_count": null,
   "metadata": {
    "colab": {
     "base_uri": "https://localhost:8080/"
    },
    "executionInfo": {
     "elapsed": 1244,
     "status": "ok",
     "timestamp": 1618413011290,
     "user": {
      "displayName": "MATHEUS DOS SANTOS PALHETA",
      "photoUrl": "https://lh3.googleusercontent.com/a-/AOh14GhBCKZHhcASrmkAX5Wts37AqlsR8dS72YjW-6iX=s64",
      "userId": "05994221399363431019"
     },
     "user_tz": 240
    },
    "id": "xteQ4Dptsdim",
    "outputId": "afd71561-2f5c-4467-e4da-0fd6e8592c22"
   },
   "outputs": [
    {
     "data": {
      "text/plain": [
       "array([ 0.31421446, -0.81795511,  1.75311721,  0.66583541])"
      ]
     },
     "execution_count": 15,
     "metadata": {
      "tags": []
     },
     "output_type": "execute_result"
    }
   ],
   "source": [
    "gaussElimin(z,k[0])"
   ]
  },
  {
   "cell_type": "markdown",
   "metadata": {
    "id": "FXVisLNbfcb6"
   },
   "source": [
    "###LU Method\n"
   ]
  },
  {
   "cell_type": "code",
   "execution_count": null,
   "metadata": {
    "id": "KBSnwPuQfh6j"
   },
   "outputs": [],
   "source": [
    "def LUdecomp(a):\n",
    "    n = len(a)\n",
    "    for k in range(0,n-1):\n",
    "        for i in range(k+1,n):\n",
    "           if a[i,k] != 0.0:\n",
    "               lam = a[i,k]/a[k,k]\n",
    "               a[i,k+1:n] = a[i,k+1:n] - lam*a[k,k+1:n]\n",
    "               a[i,k] = lam\n",
    "    return a"
   ]
  },
  {
   "cell_type": "code",
   "execution_count": null,
   "metadata": {
    "id": "ljoXEC3FgVAB"
   },
   "outputs": [],
   "source": [
    "def LUsolve(a,b):\n",
    "    n = len(a)\n",
    "    for k in range(1,n):\n",
    "        b[k] = b[k] - np.dot(a[k,0:k],b[0:k])\n",
    "    b[n-1] = b[n-1]/a[n-1,n-1]\n",
    "    for k in range(n-2,-1,-1):\n",
    "       b[k] = (b[k] - np.dot(a[k,k+1:n],b[k+1:n]))/a[k,k]\n",
    "    return b"
   ]
  },
  {
   "cell_type": "code",
   "execution_count": null,
   "metadata": {
    "id": "9pQd2D0DgV9H"
   },
   "outputs": [],
   "source": [
    "z = np.array([[ 3.50, 2.77,-0.76, 1.80],\n",
    "              [-1.80, 2.68, 3.44,-0.09],\n",
    "              [ 0.27, 5.07, 6.90, 1.61],\n",
    "              [ 1.71, 5.45, 2.68, 1.71]])\n",
    "\n",
    "k = np.array([[7.31, 4.23, 13.85, 11.55]])"
   ]
  },
  {
   "cell_type": "code",
   "execution_count": null,
   "metadata": {
    "id": "zAzvW_z0gYhz"
   },
   "outputs": [],
   "source": [
    "z= LUdecomp(z)\n",
    "x= LUsolve(z,k[0])"
   ]
  },
  {
   "cell_type": "code",
   "execution_count": null,
   "metadata": {
    "colab": {
     "base_uri": "https://localhost:8080/"
    },
    "executionInfo": {
     "elapsed": 825,
     "status": "ok",
     "timestamp": 1618933461165,
     "user": {
      "displayName": "Matheus dos Santos Palheta",
      "photoUrl": "https://lh3.googleusercontent.com/a-/AOh14GhBCKZHhcASrmkAX5Wts37AqlsR8dS72YjW-6iX=s64",
      "userId": "05994221399363431019"
     },
     "user_tz": 240
    },
    "id": "vjBwKZg09Chc",
    "outputId": "36839e05-574a-4c6e-d355-4d1f38cfcf52"
   },
   "outputs": [
    {
     "data": {
      "text/plain": [
       "array([1., 1., 1., 1.])"
      ]
     },
     "execution_count": 12,
     "metadata": {
      "tags": []
     },
     "output_type": "execute_result"
    }
   ],
   "source": [
    "x"
   ]
  },
  {
   "cell_type": "markdown",
   "metadata": {
    "id": "bray0VZ7hrwC"
   },
   "source": [
    "###Exercicio 1.5.2"
   ]
  },
  {
   "cell_type": "code",
   "execution_count": null,
   "metadata": {
    "id": "-rCRsfQUhsfr"
   },
   "outputs": [],
   "source": [
    "def gaussEliminEspec(a, b):\n",
    "    n = len(b)\n",
    "    for k in range(0, n-1):\n",
    "       for i in range(k+1, n):\n",
    "           if a[i, k] != 0.0:\n",
    "               lam = a[i, k] / a[k, k]\n",
    "               a[i, k:n-1] = a[i, k:n-1] - (lam * a[k, k:n-1])\n",
    "               b[i] = b[i] - lam * b[k]\n",
    "    for k in range(n-1, -1, -1):\n",
    "      b[k] = (b[k] - np.dot(a[k, k+1:n], b[k+1:n])) / a[k, k]\n",
    "    return a"
   ]
  },
  {
   "cell_type": "code",
   "execution_count": null,
   "metadata": {
    "id": "tBUJeVIUhzrF"
   },
   "outputs": [],
   "source": [
    "z = np.array([[-1.0, 3.0, 5.0, 2.0],\n",
    "              [ 1.0, 9.0, 8.0, 4.0],\n",
    "              [ 0.0, 1.0, 0.0, 1.0],\n",
    "              [ 2.0, 1.0, 1.0,-1.0]])\n",
    "\n",
    "k = np.array([10.0, 15.0, 2.0, -3.0])"
   ]
  },
  {
   "cell_type": "code",
   "execution_count": null,
   "metadata": {
    "colab": {
     "base_uri": "https://localhost:8080/"
    },
    "executionInfo": {
     "elapsed": 778,
     "status": "ok",
     "timestamp": 1618356304706,
     "user": {
      "displayName": "MATHEUS DOS SANTOS PALHETA",
      "photoUrl": "https://lh3.googleusercontent.com/a-/AOh14GhBCKZHhcASrmkAX5Wts37AqlsR8dS72YjW-6iX=s64",
      "userId": "05994221399363431019"
     },
     "user_tz": 240
    },
    "id": "9_Tq8ACeh0mC",
    "outputId": "2df08161-d37c-4111-83ab-3aa8dcb41abd"
   },
   "outputs": [
    {
     "data": {
      "text/plain": [
       "array([[-1.00000000e+00,  3.00000000e+00,  5.00000000e+00,\n",
       "         2.00000000e+00],\n",
       "       [ 0.00000000e+00,  1.20000000e+01,  1.30000000e+01,\n",
       "         4.00000000e+00],\n",
       "       [ 0.00000000e+00,  0.00000000e+00, -1.08333333e+00,\n",
       "         1.00000000e+00],\n",
       "       [ 0.00000000e+00,  0.00000000e+00,  4.44089210e-16,\n",
       "        -1.00000000e+00]])"
      ]
     },
     "execution_count": 18,
     "metadata": {
      "tags": []
     },
     "output_type": "execute_result"
    }
   ],
   "source": [
    "gaussEliminEspec(z,k)"
   ]
  },
  {
   "cell_type": "code",
   "execution_count": null,
   "metadata": {
    "id": "RZIECnZ7h5E3"
   },
   "outputs": [],
   "source": []
  },
  {
   "cell_type": "code",
   "execution_count": null,
   "metadata": {
    "id": "XGBIPvUOl2uf"
   },
   "outputs": [],
   "source": [
    "def f(x):\n",
    "  return (x** 3) -x -1"
   ]
  },
  {
   "cell_type": "code",
   "execution_count": null,
   "metadata": {
    "colab": {
     "base_uri": "https://localhost:8080/"
    },
    "executionInfo": {
     "elapsed": 1147,
     "status": "ok",
     "timestamp": 1620859964162,
     "user": {
      "displayName": "Matheus dos Santos Palheta",
      "photoUrl": "https://lh3.googleusercontent.com/a-/AOh14GhBCKZHhcASrmkAX5Wts37AqlsR8dS72YjW-6iX=s64",
      "userId": "05994221399363431019"
     },
     "user_tz": 240
    },
    "id": "GrxNZu0Il6y3",
    "outputId": "ed631725-972b-4ca0-eee4-b2a1c232d6e6"
   },
   "outputs": [
    {
     "data": {
      "text/plain": [
       "-0.007314733000000295"
      ]
     },
     "execution_count": 23,
     "metadata": {
      "tags": []
     },
     "output_type": "execute_result"
    }
   ],
   "source": [
    "f(1.323)"
   ]
  },
  {
   "cell_type": "markdown",
   "metadata": {
    "id": "bVV9--vQl7-D"
   },
   "source": [
    "Jacobi: com constante de convergência"
   ]
  },
  {
   "cell_type": "code",
   "execution_count": 5,
   "metadata": {},
   "outputs": [
    {
     "name": "stdout",
     "output_type": "stream",
     "text": [
      "Iteracao 1\n",
      "Valor do x: [1.  1.5 0. ]\n",
      "\n",
      "\n",
      "Iteracao 2\n",
      "Valor do x: [ 0.7   0.75 -1.25]\n",
      "\n",
      "\n",
      "Iteracao 3\n",
      "Valor do x: [ 1.1     1.2875 -0.725 ]\n",
      "\n",
      "\n",
      "Iteracao 4\n",
      "Valor do x: [ 0.8875   0.85625 -1.19375]\n",
      "\n",
      "\n",
      "Iteracao 5\n",
      "Valor do x: [ 1.0675     1.1328125 -0.871875 ]\n",
      "\n",
      "\n",
      "Iteracao 6\n",
      "Valor do x: [ 0.9478125   0.91734375 -1.10015625]\n",
      "\n",
      "\n",
      "Iteracao 7\n",
      "Valor do x: [ 1.0365625   1.06417969 -0.93257813]\n",
      "\n",
      "\n",
      "Iteracao 8\n",
      "Valor do x: [ 0.97367969  0.95572266 -1.05037109]\n",
      "\n",
      "\n",
      "Iteracao 9\n",
      "Valor do x: [ 1.01892969  1.03233301 -0.96470117]\n",
      "\n",
      "\n",
      "Iteracao 10\n",
      "Valor do x: [ 0.98647363  0.97697803 -1.02563135]\n",
      "\n",
      "\n",
      "Iteracao 11\n",
      "Valor do x: [ 1.00973066  1.01655261 -0.98172583]\n",
      "\n",
      "\n",
      "Iteracao 12\n",
      "Valor do x: [ 0.99303464  0.98813346 -1.01314164]\n",
      "\n",
      "\n",
      "Iteracao 13\n",
      "Valor do x: [ 1.00500164  1.00850943 -0.99058405]\n",
      "\n",
      "\n",
      "Iteracao 14\n",
      "Valor do x: [ 0.99641492  0.99389479 -1.00675553]\n",
      "\n",
      "\n",
      "Iteracao 15\n",
      "Valor do x: [ 1.00257215  1.00437769 -0.99515486]\n",
      "\n",
      "\n",
      "(array([ 1.00257215,  1.00437769, -0.99515486]), 15)\n"
     ]
    }
   ],
   "source": [
    "from numpy.linalg import norm\n",
    "from numpy import array, zeros, diag, diagflat, dot\n",
    "from copy import deepcopy\n",
    "def jacobi(A,b,x):\n",
    "                                                                                                                                               \n",
    "    # Criar o vetor da diagonal dos elementos de A\n",
    "    # Subtraí-los de A                                                                                                                                                                     \n",
    "    D = diag(A)\n",
    "    R = A - diagflat(D)\n",
    "    erro = 10**(-2)\n",
    "    contador = 0\n",
    "    # Iterando...                                                                                                                                                                        \n",
    "    while True :\n",
    "        xa = deepcopy(x)\n",
    "        x = (b - dot(R,x)) / D\n",
    "        contador = contador + 1\n",
    "        print('Iteracao',contador)\n",
    "        print('Valor do x:',x)\n",
    "        print('\\n')\n",
    "        if (norm(x-xa))/norm(x) < erro :\n",
    "                return x,contador\n",
    "\n",
    "E4 = array([[ 5.0, 1.0, 1.0 ],\n",
    "            [3.0, 4.0, 1.0 ],\n",
    "            [ 3.0,3.0, 6.0]])\n",
    "\n",
    "e4 = array([5.0,6.0,0.0])\n",
    "\n",
    "ap4 = array([0.0,0.0,0.0])\n",
    "\n",
    "print(jacobi(E4,e4,ap4))"
   ]
  },
  {
   "cell_type": "markdown",
   "metadata": {},
   "source": [
    "Seidel: Com numero máximo de iterações \n",
    "\n",
    "Colocar: \n",
    "if (norm(x-xa))/norm(x) < erro :\n",
    "                return x,contador\n",
    "caso seja por convergência"
   ]
  },
  {
   "cell_type": "code",
   "execution_count": null,
   "metadata": {},
   "outputs": [],
   "source": [
    "from numpy.linalg import norm\n",
    "import numpy as np\n",
    "from copy import deepcopy\n",
    "\n",
    "def seidel(A, b, x):\n",
    "\n",
    "    L = np.tril(A)\n",
    "    U = A - L\n",
    "    contador = 0\n",
    "    #erro = 5*10**(-2)\n",
    "    \n",
    "    while True:\n",
    "        xa = deepcopy(x)\n",
    "        x = np.dot(np.linalg.inv(L), b - np.dot(U, x))\n",
    "        contador = contador + 1\n",
    "        print(x, contador)\n",
    "        if contador == 4:\n",
    "            return x, contador\n",
    " \n",
    "\n",
    "A = ([[ 4.0, -1.0, 1.0 ],\n",
    "      [-1.0, 4.0, 2.0 ],\n",
    "      [ 1.0,-2.0, 4.0]])\n",
    "\n",
    "b = ([12.0,-1.0,5.0])\n",
    "\n",
    "x = ([0.0,0.0,0.0])\n",
    "\n",
    "print(seidel(A,b,x))"
   ]
  }
 ],
 "metadata": {
  "colab": {
   "authorship_tag": "ABX9TyNh3GnEnFxEo1XkBmUrrYS3",
   "collapsed_sections": [
    "bray0VZ7hrwC"
   ],
   "name": "sistemas_lineares.ipynb",
   "provenance": [],
   "toc_visible": true
  },
  "kernelspec": {
   "display_name": "Python 3",
   "language": "python",
   "name": "python3"
  },
  "language_info": {
   "codemirror_mode": {
    "name": "ipython",
    "version": 3
   },
   "file_extension": ".py",
   "mimetype": "text/x-python",
   "name": "python",
   "nbconvert_exporter": "python",
   "pygments_lexer": "ipython3",
   "version": "3.8.8"
  }
 },
 "nbformat": 4,
 "nbformat_minor": 1
}
